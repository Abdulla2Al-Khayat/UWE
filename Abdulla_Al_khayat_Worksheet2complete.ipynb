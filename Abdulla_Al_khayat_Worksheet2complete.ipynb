{
  "nbformat": 4,
  "nbformat_minor": 0,
  "metadata": {
    "colab": {
      "provenance": []
    },
    "kernelspec": {
      "name": "python3",
      "display_name": "Python 3"
    },
    "language_info": {
      "name": "python"
    }
  },
  "cells": [
    {
      "cell_type": "markdown",
      "source": [
        "TASK 1"
      ],
      "metadata": {
        "id": "Uj4CtPfMbsKP"
      }
    },
    {
      "cell_type": "code",
      "source": [
        "from google.colab import drive\n",
        "drive.mount('/content/drive')"
      ],
      "metadata": {
        "colab": {
          "base_uri": "https://localhost:8080/"
        },
        "id": "S_eOIArUq5t7",
        "outputId": "3c45d375-c884-4356-d37d-92d9a6d6c257"
      },
      "execution_count": 1,
      "outputs": [
        {
          "output_type": "stream",
          "name": "stdout",
          "text": [
            "Mounted at /content/drive\n"
          ]
        }
      ]
    },
    {
      "cell_type": "code",
      "source": [
        "def encode_morse(message):\n",
        "    \"\"\"\n",
        "    This function takes a string message and encodes it into Morse code.\n",
        "    \"\"\"\n",
        "    # Dictionary of Morse code\n",
        "    morse_code = {'A': '.-', 'B': '-...', 'C': '-.-.', 'D': '-..', 'E': '.', 'F': '..-.', 'G': '--.',\n",
        "                  'H': '....', 'I': '..', 'J': '.---', 'K': '-.-', 'L': '.-..', 'M': '--', 'N': '-.',\n",
        "                  'O': '---', 'P': '.--.', 'Q': '--.-', 'R': '.-.', 'S': '...', 'T': '-',\n",
        "                  'U': '..-', 'V': '...-', 'W': '.--', 'X': '-..-', 'Y': '-.--', 'Z': '--..',\n",
        "                  '0': '-----', '1': '.----', '2': '..---', '3': '...--', '4': '....-', '5': '.....',\n",
        "                  '6': '-....', '7': '--...', '8': '---..', '9': '----.'}\n",
        "    \n",
        "    # Convert message to uppercase and split into words\n",
        "    words = message.upper().split()\n",
        "    \n",
        "    # Encode each word into Morse code\n",
        "    encoded_words = []\n",
        "    for word in words:\n",
        "        encoded_letters = []\n",
        "        for letter in word:\n",
        "            encoded_letters.append(morse_code[letter])\n",
        "        encoded_words.append(' '.join(encoded_letters))\n",
        "    \n",
        "    # Join encoded words with '/' to represent spaces between words\n",
        "    encoded_message = ' / '.join(encoded_words)\n",
        "    \n",
        "    return encoded_message\n"
      ],
      "metadata": {
        "id": "KcGntCwTb12I"
      },
      "execution_count": 81,
      "outputs": []
    },
    {
      "cell_type": "code",
      "source": [
        "print(encode_morse(\"Abdullah\"))"
      ],
      "metadata": {
        "colab": {
          "base_uri": "https://localhost:8080/"
        },
        "id": "_FJfODsdbVBC",
        "outputId": "e422e3a8-1389-4381-e7fd-4eba6c0890c8"
      },
      "execution_count": 82,
      "outputs": [
        {
          "output_type": "stream",
          "name": "stdout",
          "text": [
            ".- -... -.. ..- .-.. .-.. .- ....\n"
          ]
        }
      ]
    },
    {
      "cell_type": "markdown",
      "source": [
        "TASK 2"
      ],
      "metadata": {
        "id": "eFy_qPnpbt2o"
      }
    },
    {
      "cell_type": "code",
      "source": [
        "def decode_morse(message):\n",
        "    \"\"\"\n",
        "    This function takes a Morse code message and decodes it into plain text.\n",
        "    \"\"\"\n",
        "    # Dictionary of Morse code (reversed from Task 2)\n",
        "    morse_code = {'.-': 'A', '-...': 'B', '-.-.': 'C', '-..': 'D', '.': 'E', '..-.': 'F', '--.': 'G',\n",
        "                  '....': 'H', '..': 'I', '.---': 'J', '-.-': 'K', '.-..': 'L', '--': 'M', '-.': 'N',\n",
        "                  '---': 'O', '.--.': 'P', '--.-': 'Q', '.-.': 'R', '...': 'S', '-': 'T', '..-': 'U',\n",
        "                  '...-': 'V', '.--': 'W', '-..-': 'X', '-.--': 'Y', '--..': 'Z', '-----': '0',\n",
        "                  '.----': '1', '..---': '2', '...--': '3', '....-': '4', '.....': '5', '-....': '6',\n",
        "                  '--...': '7', '---..': '8', '----.': '9'}\n",
        "    \n",
        "    # Split message into words and letters\n",
        "    words = message.split(' / ')\n",
        "    decoded_words = []\n",
        "    for word in words:\n",
        "        letters = word.split()\n",
        "        decoded_letters = []\n",
        "        for letter in letters:\n",
        "            decoded_letters.append(morse_code[letter])\n",
        "        decoded_words.append(''.join(decoded_letters))\n",
        "    \n",
        "    # Join decoded words into a plain text message\n",
        "    decoded_message = ' '.join(decoded_words)\n",
        "    \n",
        "    return decoded_message\n"
      ],
      "metadata": {
        "id": "GRa28BYkbv7r"
      },
      "execution_count": 83,
      "outputs": []
    },
    {
      "cell_type": "code",
      "source": [
        "print(decode_morse(\".... . .-.. .-.. --- / .... --- .-- / .- .-. . / -.-- --- ..-\"))"
      ],
      "metadata": {
        "colab": {
          "base_uri": "https://localhost:8080/"
        },
        "id": "V2VW6_KYb8d9",
        "outputId": "512433e6-17cb-43c0-c5c7-12f9cf07d916"
      },
      "execution_count": 80,
      "outputs": [
        {
          "output_type": "stream",
          "name": "stdout",
          "text": [
            "HELLO HOW ARE YOU\n"
          ]
        }
      ]
    },
    {
      "cell_type": "markdown",
      "source": [
        "TASK 3"
      ],
      "metadata": {
        "id": "g40_JIHQ0jXi"
      }
    },
    {
      "cell_type": "code",
      "source": [
        "!pip install flask_testing"
      ],
      "metadata": {
        "colab": {
          "base_uri": "https://localhost:8080/"
        },
        "id": "qLeUW834ccnx",
        "outputId": "0068f156-e215-493c-a1e5-e1f51aaa2339"
      },
      "execution_count": 6,
      "outputs": [
        {
          "output_type": "stream",
          "name": "stdout",
          "text": [
            "Looking in indexes: https://pypi.org/simple, https://us-python.pkg.dev/colab-wheels/public/simple/\n",
            "Collecting flask_testing\n",
            "  Downloading Flask-Testing-0.8.1.tar.gz (45 kB)\n",
            "\u001b[2K     \u001b[90m━━━━━━━━━━━━━━━━━━━━━━━━━━━━━━━━━━━━━━━━\u001b[0m \u001b[32m45.2/45.2 KB\u001b[0m \u001b[31m3.2 MB/s\u001b[0m eta \u001b[36m0:00:00\u001b[0m\n",
            "\u001b[?25h  Preparing metadata (setup.py) ... \u001b[?25l\u001b[?25hdone\n",
            "Requirement already satisfied: Flask in /usr/local/lib/python3.9/dist-packages (from flask_testing) (2.2.3)\n",
            "Requirement already satisfied: click>=8.0 in /usr/local/lib/python3.9/dist-packages (from Flask->flask_testing) (8.1.3)\n",
            "Requirement already satisfied: Werkzeug>=2.2.2 in /usr/local/lib/python3.9/dist-packages (from Flask->flask_testing) (2.2.3)\n",
            "Requirement already satisfied: Jinja2>=3.0 in /usr/local/lib/python3.9/dist-packages (from Flask->flask_testing) (3.1.2)\n",
            "Requirement already satisfied: itsdangerous>=2.0 in /usr/local/lib/python3.9/dist-packages (from Flask->flask_testing) (2.1.2)\n",
            "Requirement already satisfied: importlib-metadata>=3.6.0 in /usr/local/lib/python3.9/dist-packages (from Flask->flask_testing) (6.1.0)\n",
            "Requirement already satisfied: zipp>=0.5 in /usr/local/lib/python3.9/dist-packages (from importlib-metadata>=3.6.0->Flask->flask_testing) (3.15.0)\n",
            "Requirement already satisfied: MarkupSafe>=2.0 in /usr/local/lib/python3.9/dist-packages (from Jinja2>=3.0->Flask->flask_testing) (2.1.2)\n",
            "Building wheels for collected packages: flask_testing\n",
            "  Building wheel for flask_testing (setup.py) ... \u001b[?25l\u001b[?25hdone\n",
            "  Created wheel for flask_testing: filename=Flask_Testing-0.8.1-py3-none-any.whl size=8191 sha256=f6bcee175ac72a24522d4a49febf43063757136cabbd1b019e4a9c018fc60dcc\n",
            "  Stored in directory: /root/.cache/pip/wheels/56/2c/e8/52cd7ac36504f43401afd952a869548effc5d22245d582521b\n",
            "Successfully built flask_testing\n",
            "Installing collected packages: flask_testing\n",
            "Successfully installed flask_testing-0.8.1\n"
          ]
        }
      ]
    },
    {
      "cell_type": "code",
      "source": [
        "!pip install flask"
      ],
      "metadata": {
        "colab": {
          "base_uri": "https://localhost:8080/"
        },
        "id": "FR40BCt-ciMY",
        "outputId": "346ac790-65ac-4b85-9ca4-22e8777bbff5"
      },
      "execution_count": 7,
      "outputs": [
        {
          "output_type": "stream",
          "name": "stdout",
          "text": [
            "Looking in indexes: https://pypi.org/simple, https://us-python.pkg.dev/colab-wheels/public/simple/\n",
            "Requirement already satisfied: flask in /usr/local/lib/python3.9/dist-packages (2.2.3)\n",
            "Requirement already satisfied: importlib-metadata>=3.6.0 in /usr/local/lib/python3.9/dist-packages (from flask) (6.1.0)\n",
            "Requirement already satisfied: click>=8.0 in /usr/local/lib/python3.9/dist-packages (from flask) (8.1.3)\n",
            "Requirement already satisfied: Jinja2>=3.0 in /usr/local/lib/python3.9/dist-packages (from flask) (3.1.2)\n",
            "Requirement already satisfied: Werkzeug>=2.2.2 in /usr/local/lib/python3.9/dist-packages (from flask) (2.2.3)\n",
            "Requirement already satisfied: itsdangerous>=2.0 in /usr/local/lib/python3.9/dist-packages (from flask) (2.1.2)\n",
            "Requirement already satisfied: zipp>=0.5 in /usr/local/lib/python3.9/dist-packages (from importlib-metadata>=3.6.0->flask) (3.15.0)\n",
            "Requirement already satisfied: MarkupSafe>=2.0 in /usr/local/lib/python3.9/dist-packages (from Jinja2>=3.0->flask) (2.1.2)\n"
          ]
        }
      ]
    },
    {
      "cell_type": "code",
      "source": [
        "! pip install app"
      ],
      "metadata": {
        "colab": {
          "base_uri": "https://localhost:8080/"
        },
        "id": "SvpG5AZncnWO",
        "outputId": "51d5e902-9d77-450b-8d55-29467d60d15f"
      },
      "execution_count": 8,
      "outputs": [
        {
          "output_type": "stream",
          "name": "stdout",
          "text": [
            "Looking in indexes: https://pypi.org/simple, https://us-python.pkg.dev/colab-wheels/public/simple/\n",
            "Collecting app\n",
            "  Downloading app-0.0.1.zip (2.2 kB)\n",
            "  Preparing metadata (setup.py) ... \u001b[?25l\u001b[?25hdone\n",
            "Building wheels for collected packages: app\n",
            "  Building wheel for app (setup.py) ... \u001b[?25l\u001b[?25hdone\n",
            "  Created wheel for app: filename=app-0.0.1-py3-none-any.whl size=1518 sha256=be0fece96b3c6cf70ce95242a73feab6c27f64af3d7ae72edd059ff260714543\n",
            "  Stored in directory: /root/.cache/pip/wheels/69/eb/9a/f7e86e49b35f95af5aa107afb0a09d16557892554afdf7447f\n",
            "Successfully built app\n",
            "Installing collected packages: app\n",
            "Successfully installed app-0.0.1\n"
          ]
        }
      ]
    },
    {
      "cell_type": "code",
      "source": [
        "! pip install flask_testing"
      ],
      "metadata": {
        "colab": {
          "base_uri": "https://localhost:8080/"
        },
        "id": "dIZoxFkyeArA",
        "outputId": "fbe82c8f-283a-416a-a118-6302d2d837c1"
      },
      "execution_count": 9,
      "outputs": [
        {
          "output_type": "stream",
          "name": "stdout",
          "text": [
            "Looking in indexes: https://pypi.org/simple, https://us-python.pkg.dev/colab-wheels/public/simple/\n",
            "Requirement already satisfied: flask_testing in /usr/local/lib/python3.9/dist-packages (0.8.1)\n",
            "Requirement already satisfied: Flask in /usr/local/lib/python3.9/dist-packages (from flask_testing) (2.2.3)\n",
            "Requirement already satisfied: Jinja2>=3.0 in /usr/local/lib/python3.9/dist-packages (from Flask->flask_testing) (3.1.2)\n",
            "Requirement already satisfied: click>=8.0 in /usr/local/lib/python3.9/dist-packages (from Flask->flask_testing) (8.1.3)\n",
            "Requirement already satisfied: itsdangerous>=2.0 in /usr/local/lib/python3.9/dist-packages (from Flask->flask_testing) (2.1.2)\n",
            "Requirement already satisfied: Werkzeug>=2.2.2 in /usr/local/lib/python3.9/dist-packages (from Flask->flask_testing) (2.2.3)\n",
            "Requirement already satisfied: importlib-metadata>=3.6.0 in /usr/local/lib/python3.9/dist-packages (from Flask->flask_testing) (6.1.0)\n",
            "Requirement already satisfied: zipp>=0.5 in /usr/local/lib/python3.9/dist-packages (from importlib-metadata>=3.6.0->Flask->flask_testing) (3.15.0)\n",
            "Requirement already satisfied: MarkupSafe>=2.0 in /usr/local/lib/python3.9/dist-packages (from Jinja2>=3.0->Flask->flask_testing) (2.1.2)\n"
          ]
        }
      ]
    },
    {
      "cell_type": "code",
      "source": [
        "! pip install app"
      ],
      "metadata": {
        "colab": {
          "base_uri": "https://localhost:8080/"
        },
        "id": "bgaI-c3p_Yd_",
        "outputId": "62b2fb58-3e4e-4ec6-ea67-62079cfbf4f3"
      },
      "execution_count": 10,
      "outputs": [
        {
          "output_type": "stream",
          "name": "stdout",
          "text": [
            "Looking in indexes: https://pypi.org/simple, https://us-python.pkg.dev/colab-wheels/public/simple/\n",
            "Requirement already satisfied: app in /usr/local/lib/python3.9/dist-packages (0.0.1)\n"
          ]
        }
      ]
    },
    {
      "cell_type": "code",
      "source": [
        "!pip install morse"
      ],
      "metadata": {
        "colab": {
          "base_uri": "https://localhost:8080/"
        },
        "id": "7H5BHMN6vq4V",
        "outputId": "0869fc4b-bba5-44dd-d924-aa88f195b9d6"
      },
      "execution_count": 12,
      "outputs": [
        {
          "output_type": "stream",
          "name": "stdout",
          "text": [
            "Looking in indexes: https://pypi.org/simple, https://us-python.pkg.dev/colab-wheels/public/simple/\n",
            "Collecting morse\n",
            "  Downloading morse-1.0.tar.gz (1.2 kB)\n",
            "  Preparing metadata (setup.py) ... \u001b[?25l\u001b[?25hdone\n",
            "Building wheels for collected packages: morse\n",
            "  Building wheel for morse (setup.py) ... \u001b[?25l\u001b[?25hdone\n",
            "  Created wheel for morse: filename=morse-1.0-py3-none-any.whl size=1563 sha256=c77cd4f15343606af218e270a19f69aac45e8aa6458b54ea89ffb07e0c71b579\n",
            "  Stored in directory: /root/.cache/pip/wheels/2f/a2/e8/8e68971918b4e9013376a89eb0bf70828a951501fe8e696fa1\n",
            "Successfully built morse\n",
            "Installing collected packages: morse\n",
            "Successfully installed morse-1.0\n"
          ]
        }
      ]
    },
    {
      "cell_type": "code",
      "source": [
        "!python /content/drive/MyDrive/morse_unit.py"
      ],
      "metadata": {
        "colab": {
          "base_uri": "https://localhost:8080/"
        },
        "id": "sJCBo_WovkbQ",
        "outputId": "224b356d-cd8a-49e7-ad63-30ffdf9b066d"
      },
      "execution_count": 19,
      "outputs": [
        {
          "output_type": "stream",
          "name": "stdout",
          "text": [
            "..\n",
            "----------------------------------------------------------------------\n",
            "Ran 2 tests in 0.000s\n",
            "\n",
            "OK\n"
          ]
        }
      ]
    },
    {
      "cell_type": "code",
      "source": [
        "!python /content/drive/MyDrive/morse.py"
      ],
      "metadata": {
        "id": "aSKhuP02ydEj"
      },
      "execution_count": 37,
      "outputs": []
    },
    {
      "cell_type": "markdown",
      "source": [
        "TASK 4"
      ],
      "metadata": {
        "id": "cb6NXwpTcFi3"
      }
    },
    {
      "cell_type": "code",
      "source": [
        "!python /content/drive/MyDrive/morse_unit2.py"
      ],
      "metadata": {
        "colab": {
          "base_uri": "https://localhost:8080/"
        },
        "id": "INEwI1Nt1m88",
        "outputId": "c2964480-e080-47e4-ed3b-b430819991ab"
      },
      "execution_count": 20,
      "outputs": [
        {
          "output_type": "stream",
          "name": "stdout",
          "text": [
            "......\n",
            "----------------------------------------------------------------------\n",
            "Ran 6 tests in 0.000s\n",
            "\n",
            "OK\n"
          ]
        }
      ]
    },
    {
      "cell_type": "markdown",
      "source": [
        "Worksheet 2 part 2"
      ],
      "metadata": {
        "id": "dSnxm3HL31oM"
      }
    },
    {
      "cell_type": "markdown",
      "source": [
        "TASK 1"
      ],
      "metadata": {
        "id": "aalM_WIb6ihB"
      }
    },
    {
      "cell_type": "code",
      "source": [
        "morse_tree = \" ETIANMSURWDKGOHVF*L*PJBXCYZQ**54*3***2*******16*******7***8*90\"\n",
        "\n",
        "def decode_bt(msg: str) -> str:\n",
        "    result = []\n",
        "    index = 0\n",
        "\n",
        "    for char in msg:\n",
        "        if char == '.':\n",
        "            index = 2 * index + 1\n",
        "        elif char == '-':\n",
        "            index = 2 * index + 2\n",
        "        else:\n",
        "            result.append(morse_tree[index])\n",
        "            index = 0\n",
        "\n",
        "    if index > 0:\n",
        "        result.append(morse_tree[index])\n",
        "\n",
        "    return ''.join(result)\n"
      ],
      "metadata": {
        "id": "KlmHb7iw1s9j"
      },
      "execution_count": 21,
      "outputs": []
    },
    {
      "cell_type": "code",
      "source": [
        "decode_bt(\".--\")"
      ],
      "metadata": {
        "colab": {
          "base_uri": "https://localhost:8080/",
          "height": 35
        },
        "id": "yJ0zEC-S5dlB",
        "outputId": "d04ea172-3cdd-442c-b83d-8453137df5f9"
      },
      "execution_count": 30,
      "outputs": [
        {
          "output_type": "execute_result",
          "data": {
            "text/plain": [
              "'W'"
            ],
            "application/vnd.google.colaboratory.intrinsic+json": {
              "type": "string"
            }
          },
          "metadata": {},
          "execution_count": 30
        }
      ]
    },
    {
      "cell_type": "markdown",
      "source": [
        "TASK 2: Implement encode_ham and decode_ham functions"
      ],
      "metadata": {
        "id": "nay465RH6mAo"
      }
    },
    {
      "cell_type": "code",
      "source": [
        "import morse\n",
        "def encode_ham(sender: str, receiver: str, msg: str) -> str:\n",
        "    # Implement Morse encoding for each character in sender, receiver, and msg\n",
        "    # Here, you can reuse the encoding function you implemented in the previous worksheet\n",
        "    encoded_sender = encode_morse(sender)\n",
        "    encoded_receiver = encode_morse(receiver)\n",
        "    encoded_msg = encode_morse(msg)\n",
        "    return f\"{encoded_receiver} -.. . {encoded_sender} -...- {encoded_msg} -.--.\"\n",
        "\n",
        "def decode_ham(msg: str) -> tuple:\n",
        "    decoded_msg = decode_bt(msg).lower()  # Convert to lowercase\n",
        "    print(f\"decoded_msg: {decoded_msg}\")  # Add this line for debugging\n",
        "    parts = decoded_msg.split(' de ')\n",
        "    sender_receiver, content = parts[0], parts[1]\n",
        "    sender, receiver = sender_receiver.split(' ')\n",
        "    return sender, receiver, content\n",
        "\n"
      ],
      "metadata": {
        "id": "xl-eakiz6oGN"
      },
      "execution_count": 51,
      "outputs": []
    },
    {
      "cell_type": "code",
      "source": [
        "def encode_ham(sender: str, receiver: str, msg: str) -> str:\n",
        "    encoded_sender = encode_morse(sender)\n",
        "    encoded_receiver = encode_morse(receiver)\n",
        "    encoded_msg = encode_morse(msg)\n",
        "    return f\"{encoded_receiver}   -.. .   {encoded_sender}   -...-   {encoded_msg}   -.--.\"\n",
        "def decode_ham(msg: str) -> tuple:\n",
        "    decoded_msg = decode_bt(msg).lower()\n",
        "    print(f\"decoded_msg: {decoded_msg}\")  # Add this line for debugging\n",
        "    de_index = decoded_msg.find(' de ')\n",
        "    separator_index = decoded_msg.find('*')\n",
        "    receiver = decoded_msg[:de_index]\n",
        "    sender = decoded_msg[de_index + 4:separator_index]\n",
        "    content = decoded_msg[separator_index + 1:]\n",
        "    return receiver, sender, content\n"
      ],
      "metadata": {
        "id": "AJTR26QaPBqE"
      },
      "execution_count": 56,
      "outputs": []
    },
    {
      "cell_type": "code",
      "source": [
        "encoded_message = encode_ham('sender', 'receiver', 'abdullahalkhayat')\n",
        "print(encoded_message)\n",
        "\n"
      ],
      "metadata": {
        "colab": {
          "base_uri": "https://localhost:8080/"
        },
        "id": "-WDWFlCCI_HP",
        "outputId": "0483fec6-8207-435f-d377-565285b4f726"
      },
      "execution_count": 57,
      "outputs": [
        {
          "output_type": "stream",
          "name": "stdout",
          "text": [
            ".-. . -.-. . .. ...- . .-.   -.. .   ... . -. -.. . .-.   -...-   .- -... -.. ..- .-.. .-.. .- .... .- .-.. -.- .... .- -.-- .- -   -.--.\n"
          ]
        }
      ]
    },
    {
      "cell_type": "code",
      "source": [
        "sender, receiver, message = decode_ham(encoded_message)\n",
        "print(sender, receiver, message)"
      ],
      "metadata": {
        "colab": {
          "base_uri": "https://localhost:8080/"
        },
        "id": "Zbg4mJPxNPgJ",
        "outputId": "673efc1d-7fe0-4b76-b753-69605c00afa3"
      },
      "execution_count": 58,
      "outputs": [
        {
          "output_type": "stream",
          "name": "stdout",
          "text": [
            "decoded_msg: receiver  de  sender  *  abdullahalkhayat  *\n",
            "receiver   sender     abdullahalkhayat  *\n"
          ]
        }
      ]
    },
    {
      "cell_type": "code",
      "source": [
        "import asyncio\n",
        "from aiohttp import web\n",
        "\n",
        "async def handle(request):\n",
        "    return web.Response(text=\"Hello, world\")\n",
        "\n",
        "app = web.Application()\n",
        "app.router.add_get('/', handle)\n"
      ],
      "metadata": {
        "colab": {
          "base_uri": "https://localhost:8080/"
        },
        "id": "vP2HlZ2DRJoT",
        "outputId": "5752f984-c837-44ff-ed86-3a9d75a18ca4"
      },
      "execution_count": 68,
      "outputs": [
        {
          "output_type": "execute_result",
          "data": {
            "text/plain": [
              "<ResourceRoute [GET] <PlainResource  /> -> <function handle at 0x7f33d3769040>"
            ]
          },
          "metadata": {},
          "execution_count": 68
        }
      ]
    }
  ]
}